{
 "cells": [
  {
   "cell_type": "markdown",
   "metadata": {},
   "source": [
    "Etapas avaliadas serão:\n",
    "\n",
    "    1. Webscrapping de dados de saúde (Processo utilizando alguma das bibliotecas ministradas no curso).\n",
    "    2. Projeto no GitHub (Com documentação e README).\n",
    "    3. Desenvolvimento de um pipeline, detalhando as etapas envolvidas desde o webscrapping até a entrega de uma \n",
    "    base pronta para análise (ferramentas, sistema, linguagem utilizados). Pode ser em formato de texto usando fluxo de tarefas, \n",
    "    com imagens usando um fluxograma e texto para complementar com descrição de cada tarefa.\n",
    "    4. Manipulação de dados e transformação (avaliados através de scripts de manipulação usando técnicas similares as ministradas em aula).\n",
    "    5. Agregação de dados e junção (merge) de bases de dados (também avaliado através dos scripts).\n",
    "    6. Descritiva simples de pelo menos 10 variáveis da base final (se for numérica, avaliar média, \n",
    "    mediana e fazer um boxplot, se for categórica mostrar percentuais de preenchimento em cada categoria, se for data, avaliar mínimo e máximo).\n",
    "    7. Entregar um dicionário das principais variáveis na base de dados (entre 10-15 variáveis), \n",
    "    contendo o nome da variável, uma descrição breve, o tipo, e a completude na base de dados.\n",
    "\n",
    "As problemáticas disponíveis para seleção, e, portanto, o problema no qual vocês irão trabalhar estarão dispostas abaixo. \n",
    "Além disso, na etapa de webscrapping, precisaremos de dados das bases de saúde de pelo menos 5 anos (os 5 mais atuais disponíveis), \n",
    "e para os dados socioeconômicos se possível também dos últimos 5 anos (se for um índice único, utilizar apenas o que está disponível)."
   ]
  },
  {
   "cell_type": "markdown",
   "metadata": {},
   "source": [
    "\n",
    "O pesquisador quer avaliar as condições de óbitos usando alguns dados socioeconômicos, observando se existe alguma relação entre municípios com maior IVS (Índice de Vulnerabilidade Social) ou pior IED (Índice de Equidade e Dimensionamento) em relação à quantidade de óbitos.\n",
    "\n",
    "Para isso ele precisará das informações:\n",
    "\n",
    "    Sobre óbito;\n",
    "    Se o evento está relacionado ao processo de trabalho;\n",
    "    Se houve correção ou alteração da causa do óbito após investigação;\n",
    "    O(s) CID(s) informados no atestado de óbito, a causa básica da declaração do óbito (CID 10);\n",
    "    O código do município de residência, a data de nascimento e data de óbito;\n",
    "    Também tem interesse em saber o nível de escolaridade do indivíduo e escolaridade da mãe (se disponível);\n",
    "    E informações sobre raça/cor do indivíduo.\n",
    "\n",
    "    E para informações socioeconômicas queremos os valores de IED e IVS, além do número de habitantes e a faixa de porte populacional segundo o IBGE.\n",
    "    Dados:\n",
    "\n",
    "-\n",
    "SIM: https://dados.gov.br/dados/conjuntos-dados/sim-1979-2019\n",
    "-\n",
    "IED e IVS - https://www.in.gov.br/en/web/dou/-/portaria-gm/ms-n-3.493-de-10-de-abril-de-2024-553573811"
   ]
  },
  {
   "cell_type": "code",
   "execution_count": 2,
   "metadata": {},
   "outputs": [],
   "source": [
    "from bs4 import BeautifulSoup\n",
    "import pandas as pd\n",
    "import ssl\n",
    "import os"
   ]
  },
  {
   "cell_type": "code",
   "execution_count": 3,
   "metadata": {},
   "outputs": [],
   "source": [
    "from selenium import webdriver\n",
    "from selenium.webdriver.chrome.service import Service\n",
    "from selenium.webdriver.common.by import By\n",
    "import requests\n",
    "from time import sleep\n",
    "from random import randint"
   ]
  },
  {
   "cell_type": "code",
   "execution_count": 4,
   "metadata": {},
   "outputs": [],
   "source": [
    "ssl._create_default_https_context = ssl._create_unverified_context\n"
   ]
  },
  {
   "cell_type": "code",
   "execution_count": 5,
   "metadata": {},
   "outputs": [],
   "source": [
    "indices = pd.read_html('https://www.in.gov.br/en/web/dou/-/portaria-gm/ms-n-3.493-de-10-de-abril-de-2024-553573811', header=1)[5:]"
   ]
  },
  {
   "cell_type": "code",
   "execution_count": null,
   "metadata": {},
   "outputs": [],
   "source": []
  },
  {
   "cell_type": "code",
   "execution_count": null,
   "metadata": {},
   "outputs": [],
   "source": [
    "# tabelas_unificadas = pd.read_csv('tabelas_unificadas.csv')\n",
    "\n",
    "# display(tabelas_unificadas)"
   ]
  },
  {
   "cell_type": "code",
   "execution_count": 6,
   "metadata": {},
   "outputs": [],
   "source": [
    "# Une todas as tabelas em uma só (concatenando as tabelas)\n",
    "# indices_tabelas = pd.concat(indices, ignore_index=True)\n",
    "\n",
    "# # Salva a tabela unificada em um arquivo CSV\n",
    "# indices_tabelas.to_csv('tabelas_unificadas.csv', index=False)\n",
    "\n",
    "# print(\"As tabelas foram unidas e salvas com sucesso em 'tabelas_unificadas.csv'.\")"
   ]
  },
  {
   "cell_type": "code",
   "execution_count": 7,
   "metadata": {},
   "outputs": [],
   "source": [
    "#url = 'https://www.in.gov.br/en/web/dou/-/portaria-gm/ms-n-3.493-de-10-de-abril-de-2024-553573811'"
   ]
  },
  {
   "cell_type": "code",
   "execution_count": 8,
   "metadata": {},
   "outputs": [],
   "source": [
    "#headers = {'User-Agent': 'Mozilla/5.0 (Windows NT 10.0; Win64; x64) AppleWebKit/537.36 (KHTML, like Gecko) Chrome/132.0.0.0 Safari/537.36'}"
   ]
  },
  {
   "cell_type": "code",
   "execution_count": 9,
   "metadata": {},
   "outputs": [],
   "source": [
    "#page = requests.get(url, headers=headers)\n"
   ]
  },
  {
   "cell_type": "code",
   "execution_count": 10,
   "metadata": {},
   "outputs": [],
   "source": [
    "#type(page.text)\n",
    "\n"
   ]
  },
  {
   "cell_type": "code",
   "execution_count": 11,
   "metadata": {},
   "outputs": [],
   "source": [
    "#soup = BeautifulSoup(page.text, 'html.parser')"
   ]
  },
  {
   "cell_type": "code",
   "execution_count": 12,
   "metadata": {},
   "outputs": [],
   "source": [
    "#soup.find(By.CLASS_NAME, 'dou-table')"
   ]
  },
  {
   "cell_type": "code",
   "execution_count": null,
   "metadata": {},
   "outputs": [],
   "source": []
  },
  {
   "cell_type": "code",
   "execution_count": 13,
   "metadata": {},
   "outputs": [],
   "source": [
    "# # A classe Service é usada para iniciar uma instância do Chrome webDriver\n",
    "# service = Service()\n",
    "\n",
    "# # webdriver.ChromeOptions é usado para definir a preferência para o browser do Chromer\n",
    "# options = webdriver.ChromeOptions()\n",
    "\n",
    "# # Inicia-se a instância do Chrome webDriver com as definidas \"options\" e \"service\"\n",
    "# driver = webdriver.Chrome(service=service, options=options)"
   ]
  }
 ],
 "metadata": {
  "kernelspec": {
   "display_name": "base",
   "language": "python",
   "name": "python3"
  },
  "language_info": {
   "codemirror_mode": {
    "name": "ipython",
    "version": 3
   },
   "file_extension": ".py",
   "mimetype": "text/x-python",
   "name": "python",
   "nbconvert_exporter": "python",
   "pygments_lexer": "ipython3",
   "version": "3.11.7"
  }
 },
 "nbformat": 4,
 "nbformat_minor": 4
}
